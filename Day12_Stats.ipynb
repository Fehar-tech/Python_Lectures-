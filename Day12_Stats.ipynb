{
 "cells": [
  {
   "cell_type": "markdown",
   "metadata": {},
   "source": [
    "# Intro to Statistics"
   ]
  },
  {
   "cell_type": "markdown",
   "metadata": {},
   "source": [
    "#Language of Stats\n",
    "average\n",
    "minimum\n",
    "maximum\n",
    "percentage\n",
    "likelihood\n",
    "varience\n",
    "t-test\n",
    "ANOVA"
   ]
  },
  {
   "cell_type": "code",
   "execution_count": null,
   "metadata": {
    "vscode": {
     "languageId": "plaintext"
    }
   },
   "outputs": [],
   "source": [
    "### Types of Data\n",
    "Corssectional data --------- collected one time\n",
    "Time Series -------- Data collected on different time points\n",
    "univariate----  single variable to measure entity  eg how much you eat and how weight you gain\n",
    "Multivariate---- 2 or more variable to measure entity eg soda+biryani = weight"
   ]
  },
  {
   "cell_type": "code",
   "execution_count": null,
   "metadata": {
    "vscode": {
     "languageId": "plaintext"
    }
   },
   "outputs": [],
   "source": [
    "### Types of variable\n",
    "Binomial ----true false\n",
    "Multinomial --- watching class on mob,pc,laptop,tv,other people mob etc \n",
    "Categorical --- ordinal variable -- how many cellphones i have and how many you but we dont compare , we basically rank the data\n",
    "                                    ratio data\n",
    "Interval Variable/data ...difeerential are meaningful but we cant say its twice or thrice"
   ]
  },
  {
   "cell_type": "code",
   "execution_count": null,
   "metadata": {
    "vscode": {
     "languageId": "plaintext"
    }
   },
   "outputs": [],
   "source": [
    "### Measure of Central Tendency\n",
    "mean \n",
    "median\n",
    "mode "
   ]
  },
  {
   "cell_type": "code",
   "execution_count": null,
   "metadata": {
    "vscode": {
     "languageId": "plaintext"
    }
   },
   "outputs": [],
   "source": [
    "#ASSIGNMENT-- download a data set and see its mean median and mode"
   ]
  }
 ],
 "metadata": {
  "language_info": {
   "name": "python"
  }
 },
 "nbformat": 4,
 "nbformat_minor": 2
}
