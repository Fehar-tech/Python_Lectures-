{
 "cells": [
  {
   "cell_type": "markdown",
   "id": "e3fd3478-40dd-4cd6-963c-2e26f7a761ed",
   "metadata": {},
   "source": [
    "# Data Visualization PART1 "
   ]
  },
  {
   "cell_type": "markdown",
   "id": "cc13277e-326e-4da4-8182-86c8011adfcd",
   "metadata": {},
   "source": [
    "### Indexing"
   ]
  },
  {
   "cell_type": "code",
   "execution_count": 2,
   "id": "52727ae9-cb70-4424-8def-0abe1c8592ee",
   "metadata": {},
   "outputs": [
    {
     "data": {
      "text/plain": [
       "'My name is Ahmed'"
      ]
     },
     "execution_count": 2,
     "metadata": {},
     "output_type": "execute_result"
    }
   ],
   "source": [
    "#Make a string\n",
    "name=(\"My name is Ahmed\")\n",
    "name"
   ]
  },
  {
   "cell_type": "code",
   "execution_count": 3,
   "id": "8ed0e30f-5126-40e0-a70c-01a02ea67566",
   "metadata": {},
   "outputs": [
    {
     "data": {
      "text/plain": [
       "16"
      ]
     },
     "execution_count": 3,
     "metadata": {},
     "output_type": "execute_result"
    }
   ],
   "source": [
    "len(name)"
   ]
  },
  {
   "cell_type": "code",
   "execution_count": 6,
   "id": "740475a2-1216-41bc-a5f9-3234d8ec5628",
   "metadata": {},
   "outputs": [
    {
     "data": {
      "text/plain": [
       "'d'"
      ]
     },
     "execution_count": 6,
     "metadata": {},
     "output_type": "execute_result"
    }
   ],
   "source": [
    "name[15]"
   ]
  },
  {
   "cell_type": "code",
   "execution_count": 7,
   "id": "a63a345f-dcd2-4727-aa20-dabcce2c8a21",
   "metadata": {},
   "outputs": [
    {
     "data": {
      "text/plain": [
       "'My name is Ahme'"
      ]
     },
     "execution_count": 7,
     "metadata": {},
     "output_type": "execute_result"
    }
   ],
   "source": [
    "name[0:15]"
   ]
  },
  {
   "cell_type": "code",
   "execution_count": 8,
   "id": "e4343c38-ee05-4185-ad29-4f8aa65462c0",
   "metadata": {},
   "outputs": [
    {
     "data": {
      "text/plain": [
       "'hello world'"
      ]
     },
     "execution_count": 8,
     "metadata": {},
     "output_type": "execute_result"
    }
   ],
   "source": [
    "nam= \"hello world\"\n",
    "nam"
   ]
  },
  {
   "cell_type": "code",
   "execution_count": 10,
   "id": "b60174d2-3408-4a60-817c-08c6bf5bc6a9",
   "metadata": {},
   "outputs": [
    {
     "data": {
      "text/plain": [
       "'Hello world'"
      ]
     },
     "execution_count": 10,
     "metadata": {},
     "output_type": "execute_result"
    }
   ],
   "source": [
    "nam.capitalize()"
   ]
  },
  {
   "cell_type": "code",
   "execution_count": 16,
   "id": "e8b6fa9f-d7f2-43ab-96a5-2a8266664c3c",
   "metadata": {},
   "outputs": [
    {
     "data": {
      "text/plain": [
       "'hello world'"
      ]
     },
     "execution_count": 16,
     "metadata": {},
     "output_type": "execute_result"
    }
   ],
   "source": [
    "nam.lower()"
   ]
  },
  {
   "cell_type": "code",
   "execution_count": 17,
   "id": "0d265c8a-5143-44ab-b086-9f389602d5b0",
   "metadata": {},
   "outputs": [
    {
     "data": {
      "text/plain": [
       "'HELLO WORLD'"
      ]
     },
     "execution_count": 17,
     "metadata": {},
     "output_type": "execute_result"
    }
   ],
   "source": [
    "nam.upper()"
   ]
  },
  {
   "cell_type": "code",
   "execution_count": 18,
   "id": "2158a0a0-1a68-46f9-8016-4cb2ca802560",
   "metadata": {},
   "outputs": [
    {
     "data": {
      "text/plain": [
       "'hy world'"
      ]
     },
     "execution_count": 18,
     "metadata": {},
     "output_type": "execute_result"
    }
   ],
   "source": [
    "#replacing elements\n",
    "nam.replace(\"hello\" ,\"hy\")"
   ]
  },
  {
   "cell_type": "code",
   "execution_count": 19,
   "id": "1231fead-3cbc-4fbf-86ba-feb12d025854",
   "metadata": {},
   "outputs": [
    {
     "data": {
      "text/plain": [
       "'My shirt color is Blue'"
      ]
     },
     "execution_count": 19,
     "metadata": {},
     "output_type": "execute_result"
    }
   ],
   "source": [
    "#finding index number\n",
    "color= \"My shirt color is Blue\"\n",
    "color"
   ]
  },
  {
   "cell_type": "code",
   "execution_count": 25,
   "id": "4313215d-95fa-44b3-b928-d40995460d77",
   "metadata": {},
   "outputs": [
    {
     "data": {
      "text/plain": [
       "18"
      ]
     },
     "execution_count": 25,
     "metadata": {},
     "output_type": "execute_result"
    }
   ],
   "source": [
    "color.find(\"B\")"
   ]
  },
  {
   "cell_type": "code",
   "execution_count": 28,
   "id": "370300b1-df66-4d9c-a403-80b67895b914",
   "metadata": {},
   "outputs": [
    {
     "data": {
      "text/plain": [
       "22"
      ]
     },
     "execution_count": 28,
     "metadata": {},
     "output_type": "execute_result"
    }
   ],
   "source": [
    "len(color)"
   ]
  },
  {
   "cell_type": "code",
   "execution_count": 36,
   "id": "55648750-c065-402a-9ade-995d5f1933ea",
   "metadata": {},
   "outputs": [
    {
     "data": {
      "text/plain": [
       "' My name is Hamza  8 years , School ,  2 Class'"
      ]
     },
     "execution_count": 36,
     "metadata": {},
     "output_type": "execute_result"
    }
   ],
   "source": [
    "#spliting string\n",
    "naam= \" My name is Hamza  8 years , School ,  2 Class\"\n",
    "naam"
   ]
  },
  {
   "cell_type": "code",
   "execution_count": 37,
   "id": "0f219fcc-a7bc-49e4-bde5-64bb74664f85",
   "metadata": {},
   "outputs": [
    {
     "data": {
      "text/plain": [
       "[' My name is Hamza  8 years', 'School', ' 2 Class']"
      ]
     },
     "execution_count": 37,
     "metadata": {},
     "output_type": "execute_result"
    }
   ],
   "source": [
    "naam.split(\" , \")"
   ]
  },
  {
   "cell_type": "code",
   "execution_count": null,
   "id": "d66fe25d-92fe-4915-8482-d5b38e116896",
   "metadata": {},
   "outputs": [],
   "source": [
    "\n",
    "\n"
   ]
  },
  {
   "cell_type": "markdown",
   "id": "9143fcef-31ff-415e-a669-9d2a4594babd",
   "metadata": {},
   "source": []
  },
  {
   "cell_type": "markdown",
   "id": "f545ab59-3dbd-43e0-a3db-0921b1be2f9e",
   "metadata": {},
   "source": [
    "# Data Visualization PART 2"
   ]
  },
  {
   "cell_type": "markdown",
   "id": "7a19c56d-cd1a-4048-9afb-bea639b65355",
   "metadata": {},
   "source": [
    "## 4 TYPES WE WILL STUDY\n",
    "1-TUPLE\n",
    "2-LIST\n",
    "3-DICTIONARIES\n",
    "4-SETS\n"
   ]
  },
  {
   "cell_type": "markdown",
   "id": "fadfe52d-6d60-481c-9295-df0d503218f1",
   "metadata": {},
   "source": [
    "### TUPLE\n",
    "#1-Ordered collecion of words Enclosed in () \n",
    "\n",
    "#2-Different kind of elements can\n",
    "\n",
    "be stored ( element = integer, string, float, Boolean Operators like Yes\n",
    "No True False etc )\n",
    "\n",
    "#3-Once elements stored they cant be changed\n"
   ]
  },
  {
   "cell_type": "code",
   "execution_count": 38,
   "id": "8500ce58-9f35-4f62-a507-8f68930990bf",
   "metadata": {},
   "outputs": [
    {
     "data": {
      "text/plain": [
       "(1, 'Fehar', 3.5, False)"
      ]
     },
     "execution_count": 38,
     "metadata": {},
     "output_type": "execute_result"
    }
   ],
   "source": [
    "tup1=(1, \"Fehar\" , 3.5 , False )\n",
    "tup1"
   ]
  },
  {
   "cell_type": "code",
   "execution_count": 39,
   "id": "589617c5-2cc3-4a19-9a1b-94da08e31382",
   "metadata": {},
   "outputs": [
    {
     "data": {
      "text/plain": [
       "tuple"
      ]
     },
     "execution_count": 39,
     "metadata": {},
     "output_type": "execute_result"
    }
   ],
   "source": [
    "#type\n",
    "type(tup1)"
   ]
  },
  {
   "cell_type": "code",
   "execution_count": 40,
   "id": "9e11c1ff-83e9-4f1e-a935-944e13841722",
   "metadata": {},
   "outputs": [
    {
     "data": {
      "text/plain": [
       "4"
      ]
     },
     "execution_count": 40,
     "metadata": {},
     "output_type": "execute_result"
    }
   ],
   "source": [
    "#Lenght\n",
    "len(tup1)"
   ]
  },
  {
   "cell_type": "code",
   "execution_count": 42,
   "id": "7757177b-bee9-4c79-a9f0-dde1b3f227b5",
   "metadata": {},
   "outputs": [
    {
     "data": {
      "text/plain": [
       "False"
      ]
     },
     "execution_count": 42,
     "metadata": {},
     "output_type": "execute_result"
    }
   ],
   "source": [
    "#finding\n",
    "tup1[3]"
   ]
  },
  {
   "cell_type": "code",
   "execution_count": null,
   "id": "5d6d9f92-5eb8-46e8-b250-bcf75d30a472",
   "metadata": {},
   "outputs": [],
   "source": [
    "#tuple cannot be capitalize or lower because its unchangeable\n"
   ]
  },
  {
   "cell_type": "code",
   "execution_count": 45,
   "id": "ee3c8b20-093e-4ab3-8558-6b22d934d671",
   "metadata": {},
   "outputs": [
    {
     "data": {
      "text/plain": [
       "0"
      ]
     },
     "execution_count": 45,
     "metadata": {},
     "output_type": "execute_result"
    }
   ],
   "source": [
    "#Indexing of tuple aka finding \n",
    "tup1.index(1)"
   ]
  },
  {
   "cell_type": "code",
   "execution_count": 47,
   "id": "6c05e882-2db7-4775-a8a7-2c74bac3138e",
   "metadata": {},
   "outputs": [
    {
     "data": {
      "text/plain": [
       "1"
      ]
     },
     "execution_count": 47,
     "metadata": {},
     "output_type": "execute_result"
    }
   ],
   "source": [
    "tup1.index(\"Fehar\")"
   ]
  },
  {
   "cell_type": "code",
   "execution_count": 49,
   "id": "0cbeb0bc-1fc2-4f15-9986-2643cb492418",
   "metadata": {},
   "outputs": [
    {
     "data": {
      "text/plain": [
       "(1, 'Fehar', 3.5, False, 711, 'Learning Python', 2.2, True)"
      ]
     },
     "execution_count": 49,
     "metadata": {},
     "output_type": "execute_result"
    }
   ],
   "source": [
    "#Concentinate Tuples ( Adding two or more tuples )\n",
    "tup2=(711,\"Learning Python\" , 2.2 , True)\n",
    "tup2\n",
    "\n",
    "tup1+tup2"
   ]
  },
  {
   "cell_type": "code",
   "execution_count": 51,
   "id": "4c66a2a4-0191-4712-9c31-1d5a5264bcfb",
   "metadata": {},
   "outputs": [
    {
     "data": {
      "text/plain": [
       "(1,\n",
       " 'Fehar',\n",
       " 3.5,\n",
       " False,\n",
       " 1,\n",
       " 'Fehar',\n",
       " 3.5,\n",
       " False,\n",
       " 711,\n",
       " 'Learning Python',\n",
       " 2.2,\n",
       " True)"
      ]
     },
     "execution_count": 51,
     "metadata": {},
     "output_type": "execute_result"
    }
   ],
   "source": [
    "tup1*2 + tup2"
   ]
  },
  {
   "cell_type": "code",
   "execution_count": 52,
   "id": "fa1e50ad-29c7-41d0-873f-8df7a813adac",
   "metadata": {},
   "outputs": [
    {
     "data": {
      "text/plain": [
       "(1,\n",
       " 'Fehar',\n",
       " 3.5,\n",
       " False,\n",
       " 711,\n",
       " 'Learning Python',\n",
       " 2.2,\n",
       " True,\n",
       " 711,\n",
       " 'Learning Python',\n",
       " 2.2,\n",
       " True)"
      ]
     },
     "execution_count": 52,
     "metadata": {},
     "output_type": "execute_result"
    }
   ],
   "source": [
    "tup1 + tup2*2"
   ]
  },
  {
   "cell_type": "code",
   "execution_count": 55,
   "id": "2fa5bb73-260a-4a5e-8d08-7887a671967f",
   "metadata": {},
   "outputs": [
    {
     "data": {
      "text/plain": [
       "642"
      ]
     },
     "execution_count": 55,
     "metadata": {},
     "output_type": "execute_result"
    }
   ],
   "source": [
    "#finding a maximum and mainimum , applicable on floats and numerics (integeres (ints) only)\n",
    "tup3=(12, 121, 12.4, 474.6, 642, 72, 0.6,286.2)\n",
    "max(tup3)"
   ]
  },
  {
   "cell_type": "code",
   "execution_count": 56,
   "id": "1093a035-0537-4edf-876c-a144e09c1b92",
   "metadata": {},
   "outputs": [
    {
     "data": {
      "text/plain": [
       "0.6"
      ]
     },
     "execution_count": 56,
     "metadata": {},
     "output_type": "execute_result"
    }
   ],
   "source": [
    "min(tup3)"
   ]
  },
  {
   "cell_type": "code",
   "execution_count": 57,
   "id": "0b58640f-2193-43d3-a939-60acfa37599f",
   "metadata": {},
   "outputs": [
    {
     "data": {
      "text/plain": [
       "tuple"
      ]
     },
     "execution_count": 57,
     "metadata": {},
     "output_type": "execute_result"
    }
   ],
   "source": [
    "type(tup3)"
   ]
  },
  {
   "cell_type": "code",
   "execution_count": 58,
   "id": "d9a49a0b-db7b-4f10-ae59-3dd3145dd2d1",
   "metadata": {},
   "outputs": [
    {
     "data": {
      "text/plain": [
       "8"
      ]
     },
     "execution_count": 58,
     "metadata": {},
     "output_type": "execute_result"
    }
   ],
   "source": [
    "len(tup3)"
   ]
  },
  {
   "cell_type": "code",
   "execution_count": 60,
   "id": "f4bdedf7-e85a-4804-9958-86965e015d5e",
   "metadata": {},
   "outputs": [
    {
     "data": {
      "text/plain": [
       "1"
      ]
     },
     "execution_count": 60,
     "metadata": {},
     "output_type": "execute_result"
    }
   ],
   "source": [
    "tup3.index(121)"
   ]
  },
  {
   "cell_type": "code",
   "execution_count": null,
   "id": "8e65e3e6-d5f9-48b0-9383-3b47b5fc3972",
   "metadata": {},
   "outputs": [],
   "source": []
  },
  {
   "cell_type": "code",
   "execution_count": null,
   "id": "a9ced2f6-af95-449d-9293-3603ee2d33fa",
   "metadata": {},
   "outputs": [],
   "source": []
  },
  {
   "cell_type": "markdown",
   "id": "477c0273-6bca-4420-94c9-b5ae1d34a204",
   "metadata": {},
   "source": [
    "### LIST\r",
    "#1-\n",
    "Order collection of Elements Enclosed in [] square bracket.\n",
    "\n",
    "#2- You can change the value\n",
    "\n",
    "#3-Different kind of elements can \r\n",
    "be stored ( element = integer, string, float, Boolean Operators like Yes No True False etc )s"
   ]
  },
  {
   "cell_type": "code",
   "execution_count": 63,
   "id": "96a1d5ff-5bf0-4926-9c26-929fd6db9d52",
   "metadata": {},
   "outputs": [
    {
     "data": {
      "text/plain": [
       "[1, 'Ahmed', 9.765, False]"
      ]
     },
     "execution_count": 63,
     "metadata": {},
     "output_type": "execute_result"
    }
   ],
   "source": [
    "list1=[1,\"Ahmed\",9.765,False]\n",
    "list1"
   ]
  },
  {
   "cell_type": "code",
   "execution_count": 64,
   "id": "2a9c78fa-624e-4b92-a94e-f48ab85b85b3",
   "metadata": {},
   "outputs": [
    {
     "data": {
      "text/plain": [
       "list"
      ]
     },
     "execution_count": 64,
     "metadata": {},
     "output_type": "execute_result"
    }
   ],
   "source": [
    "type(list1)"
   ]
  },
  {
   "cell_type": "code",
   "execution_count": 65,
   "id": "3c5484be-79d6-4f61-a2fb-164944b673c5",
   "metadata": {},
   "outputs": [
    {
     "data": {
      "text/plain": [
       "4"
      ]
     },
     "execution_count": 65,
     "metadata": {},
     "output_type": "execute_result"
    }
   ],
   "source": [
    "len(list1)"
   ]
  },
  {
   "cell_type": "code",
   "execution_count": 68,
   "id": "42071c7d-f423-42c0-99de-2b609e74d679",
   "metadata": {},
   "outputs": [
    {
     "data": {
      "text/plain": [
       "1"
      ]
     },
     "execution_count": 68,
     "metadata": {},
     "output_type": "execute_result"
    }
   ],
   "source": [
    "list1.count(False)   #it counts how many times a variable is in the [string]"
   ]
  },
  {
   "cell_type": "code",
   "execution_count": 79,
   "id": "90425bc3-7cd7-4884-8837-353c49a96586",
   "metadata": {},
   "outputs": [
    {
     "data": {
      "text/plain": [
       "[22, 44, 77, 443, 55.54, 23313.4]"
      ]
     },
     "execution_count": 79,
     "metadata": {},
     "output_type": "execute_result"
    }
   ],
   "source": [
    "list2=[22,44,77,443,55.54,23313.4]\n",
    "list2"
   ]
  },
  {
   "cell_type": "code",
   "execution_count": 84,
   "id": "3285da34-3b0e-439a-8d2a-aec0d8efcabb",
   "metadata": {},
   "outputs": [
    {
     "data": {
      "text/plain": [
       "[22, 44, 55.54, 77, 443, 23313.4]"
      ]
     },
     "execution_count": 84,
     "metadata": {},
     "output_type": "execute_result"
    }
   ],
   "source": [
    "#sort (only use for int and floats)\n",
    "list2.sort()\n",
    "list2"
   ]
  },
  {
   "cell_type": "code",
   "execution_count": 85,
   "id": "99b919b3-c019-4f27-85ba-21b31cc217ea",
   "metadata": {},
   "outputs": [
    {
     "data": {
      "text/plain": [
       "[1, 'Ahmed', False]"
      ]
     },
     "execution_count": 85,
     "metadata": {},
     "output_type": "execute_result"
    }
   ],
   "source": [
    "list1.remove(9.765)\n",
    "list1"
   ]
  },
  {
   "cell_type": "code",
   "execution_count": 93,
   "id": "4f036edd-a5a4-4803-ad14-7e08a9d02635",
   "metadata": {},
   "outputs": [
    {
     "data": {
      "text/plain": [
       "[1, 'Ahmed', False, 26, 26]"
      ]
     },
     "execution_count": 93,
     "metadata": {},
     "output_type": "execute_result"
    }
   ],
   "source": [
    "list1\n",
    "\n"
   ]
  },
  {
   "cell_type": "code",
   "execution_count": 95,
   "id": "52400e3a-aa95-4aa7-974c-4f954723191a",
   "metadata": {},
   "outputs": [
    {
     "data": {
      "text/plain": [
       "False"
      ]
     },
     "execution_count": 95,
     "metadata": {},
     "output_type": "execute_result"
    }
   ],
   "source": [
    "list1[2]"
   ]
  },
  {
   "cell_type": "code",
   "execution_count": 96,
   "id": "59d5a08d-5175-4cb8-8447-b3d06ba8effc",
   "metadata": {},
   "outputs": [
    {
     "data": {
      "text/plain": [
       "[5, 'Ahmed', True, 10.33, 'Fehar', 7, 9.9, False]"
      ]
     },
     "execution_count": 96,
     "metadata": {},
     "output_type": "execute_result"
    }
   ],
   "source": [
    "#concentinate (adding)\n",
    "list3=[5 , \"Ahmed\" , True , 10.33]\n",
    "list4=[\"Fehar\",7,9.9,False]\n",
    "list3+list4"
   ]
  },
  {
   "cell_type": "code",
   "execution_count": 97,
   "id": "11c5ed4a-3434-41d3-bd41-8eabbd9c2e3f",
   "metadata": {},
   "outputs": [
    {
     "data": {
      "text/plain": [
       "[5, 'Ahmed', True, 10.33, 5, 'Ahmed', True, 10.33, 'Fehar', 7, 9.9, False]"
      ]
     },
     "execution_count": 97,
     "metadata": {},
     "output_type": "execute_result"
    }
   ],
   "source": [
    "list3=[5 , \"Ahmed\" , True , 10.33]\n",
    "list4=[\"Fehar\",7,9.9,False]\n",
    "list3*2 +list4"
   ]
  },
  {
   "cell_type": "code",
   "execution_count": 102,
   "id": "fc8205a3-f00c-4885-8e44-1957e9dc6b82",
   "metadata": {},
   "outputs": [
    {
     "data": {
      "text/plain": [
       "[False, 9.9, 7, 'Fehar']"
      ]
     },
     "execution_count": 102,
     "metadata": {},
     "output_type": "execute_result"
    }
   ],
   "source": [
    "#Reversing\n",
    "list4\n"
   ]
  },
  {
   "cell_type": "code",
   "execution_count": 103,
   "id": "f7dc9361-74f1-430c-9de6-f50d08db14ca",
   "metadata": {},
   "outputs": [
    {
     "data": {
      "text/plain": [
       "['Fehar', 7, 9.9, False]"
      ]
     },
     "execution_count": 103,
     "metadata": {},
     "output_type": "execute_result"
    }
   ],
   "source": [
    "list4.reverse()\n",
    "list4"
   ]
  },
  {
   "cell_type": "code",
   "execution_count": 107,
   "id": "b4a4fb1c-593f-4b2b-951d-ebd14786e349",
   "metadata": {},
   "outputs": [
    {
     "data": {
      "text/plain": [
       "[5, 'Ahmed', True, 10.33]"
      ]
     },
     "execution_count": 107,
     "metadata": {},
     "output_type": "execute_result"
    }
   ],
   "source": [
    "#Append ( to join something with the preexisting list )\n",
    "list3"
   ]
  },
  {
   "cell_type": "code",
   "execution_count": 108,
   "id": "b318eada-1540-4ca3-957e-f587d9b1e56a",
   "metadata": {},
   "outputs": [
    {
     "data": {
      "text/plain": [
       "[5, 'Ahmed', True, 10.33, 'Hello World']"
      ]
     },
     "execution_count": 108,
     "metadata": {},
     "output_type": "execute_result"
    }
   ],
   "source": [
    "list3.append(\"Hello World\")\n",
    "list3"
   ]
  },
  {
   "cell_type": "code",
   "execution_count": 10,
   "id": "d9df3729-9d25-441c-86b4-77a55982f7eb",
   "metadata": {},
   "outputs": [
    {
     "data": {
      "text/plain": [
       "['Beef',\n",
       " 'Chicken',\n",
       " 'Biryani',\n",
       " 'Pulao',\n",
       " 'Tea',\n",
       " 'Water',\n",
       " 'Burger',\n",
       " 'Pizza',\n",
       " 'Colddrink']"
      ]
     },
     "execution_count": 10,
     "metadata": {},
     "output_type": "execute_result"
    }
   ],
   "source": [
    "#  Practical Example of LIST in making a short algorithm \n",
    "food=[\"Beef\",\"Chicken\",\"Biryani\",\"Pulao\",\"Tea\",\"Water\",\"Burger\",\"Pizza\",\"Colddrink\"]\n",
    "food"
   ]
  },
  {
   "cell_type": "code",
   "execution_count": 11,
   "id": "ee9ac56a-69cb-409c-a5a7-c679a3cd21fc",
   "metadata": {},
   "outputs": [
    {
     "data": {
      "text/plain": [
       "list"
      ]
     },
     "execution_count": 11,
     "metadata": {},
     "output_type": "execute_result"
    }
   ],
   "source": [
    "type(food)"
   ]
  },
  {
   "cell_type": "code",
   "execution_count": 118,
   "id": "5a6abf2c-c0bc-4855-93ac-932ecf1cab33",
   "metadata": {},
   "outputs": [
    {
     "data": {
      "text/plain": [
       "9"
      ]
     },
     "execution_count": 118,
     "metadata": {},
     "output_type": "execute_result"
    }
   ],
   "source": [
    "len(food) #price len also 9 len(price)"
   ]
  },
  {
   "cell_type": "code",
   "execution_count": 144,
   "id": "dba59dc8-2693-4375-9692-3e209b2f6688",
   "metadata": {},
   "outputs": [
    {
     "data": {
      "text/plain": [
       "['RS 300',\n",
       " 'RS 299',\n",
       " 'RS 200',\n",
       " 'RS 300',\n",
       " 'RS 99',\n",
       " 'RS 99',\n",
       " 'RS 200',\n",
       " 'RS 799',\n",
       " 'RS 100']"
      ]
     },
     "execution_count": 144,
     "metadata": {},
     "output_type": "execute_result"
    }
   ],
   "source": [
    "price = [\"RS 300\", \"RS 299\", \"RS 200\", \"RS 300\", \"RS 99\", \"RS 99\", \"RS 200\" ,\"RS 799\", \"RS 100\"]\n",
    "price"
   ]
  },
  {
   "cell_type": "markdown",
   "id": "21ad8747-c252-44c7-a23c-d04cff03594e",
   "metadata": {},
   "source": [
    "### Dictionaries\n",
    "#1-Unorder arrangements of values key and values {} curly braces \n",
    "\n",
    "#2-values are changeable"
   ]
  },
  {
   "cell_type": "code",
   "execution_count": 18,
   "id": "73cb1b31-dd4f-43fe-b88d-58f118ee499a",
   "metadata": {},
   "outputs": [
    {
     "data": {
      "text/plain": [
       "{'Rice': 100, 'Mutton': 300, 'pizza': 999, 'tea': 99}"
      ]
     },
     "execution_count": 18,
     "metadata": {},
     "output_type": "execute_result"
    }
   ],
   "source": [
    "#food and their prices\n",
    "menu1 = { \"Rice\":100 , \"Mutton\":300 , \"pizza\":999 , \"tea\":99 }   #key = str , values = intg\n",
    "menu1"
   ]
  },
  {
   "cell_type": "code",
   "execution_count": 19,
   "id": "1e547183-cf22-4c67-8529-b239de3ba0ab",
   "metadata": {},
   "outputs": [
    {
     "data": {
      "text/plain": [
       "dict"
      ]
     },
     "execution_count": 19,
     "metadata": {},
     "output_type": "execute_result"
    }
   ],
   "source": [
    "type(menu1)\n"
   ]
  },
  {
   "cell_type": "code",
   "execution_count": 20,
   "id": "2c5ebd10-4b0d-46f5-b164-cf9a1885f925",
   "metadata": {},
   "outputs": [
    {
     "data": {
      "text/plain": [
       "dict_keys(['Rice', 'Mutton', 'pizza', 'tea'])"
      ]
     },
     "execution_count": 20,
     "metadata": {},
     "output_type": "execute_result"
    }
   ],
   "source": [
    "###extract data\n",
    "keys1 = menu1.keys()\n",
    "keys1"
   ]
  },
  {
   "cell_type": "code",
   "execution_count": 21,
   "id": "c983a7b9-8371-4c0a-9ec5-4ccbf6adfc70",
   "metadata": {},
   "outputs": [
    {
     "data": {
      "text/plain": [
       "dict_values([100, 300, 999, 99])"
      ]
     },
     "execution_count": 21,
     "metadata": {},
     "output_type": "execute_result"
    }
   ],
   "source": [
    "values1 = menu1.values()\n",
    "values1"
   ]
  },
  {
   "cell_type": "code",
   "execution_count": 22,
   "id": "a8a6da0a-65b2-4b29-8366-255929c68626",
   "metadata": {},
   "outputs": [
    {
     "data": {
      "text/plain": [
       "{'Rice': 100, 'Mutton': 300, 'pizza': 999, 'tea': 99, 'Salad': 99}"
      ]
     },
     "execution_count": 22,
     "metadata": {},
     "output_type": "execute_result"
    }
   ],
   "source": [
    "#update the dictinary\n",
    "menu1[\"Salad\"]= 99\n",
    "menu1"
   ]
  },
  {
   "cell_type": "code",
   "execution_count": 34,
   "id": "b9063b23-04d4-4fca-92e0-38b6fa95e021",
   "metadata": {},
   "outputs": [
    {
     "ename": "SyntaxError",
     "evalue": "invalid syntax (2997387260.py, line 1)",
     "output_type": "error",
     "traceback": [
      "\u001b[1;36m  Cell \u001b[1;32mIn[34], line 1\u001b[1;36m\u001b[0m\n\u001b[1;33m    menu1.update{\"Salad\"}= \"199\"\u001b[0m\n\u001b[1;37m                ^\u001b[0m\n\u001b[1;31mSyntaxError\u001b[0m\u001b[1;31m:\u001b[0m invalid syntax\n"
     ]
    }
   ],
   "source": [
    "menu1.update{\"Salad\"}= \"199\" #unable to find the exact code to update the value you can check it later on \n",
    "menu1"
   ]
  },
  {
   "cell_type": "markdown",
   "id": "8101e2a7-11d8-40f8-841e-4209f566cdbc",
   "metadata": {},
   "source": [
    "### Sets\n",
    "Unordered , Unindex , Curly braces{} , no duplicates allowed"
   ]
  },
  {
   "cell_type": "code",
   "execution_count": 35,
   "id": "705f8563-48b3-4578-acd8-2490ff097013",
   "metadata": {},
   "outputs": [
    {
     "data": {
      "text/plain": [
       "{3, 3.9, 4, 'ahmed', 'fehar'}"
      ]
     },
     "execution_count": 35,
     "metadata": {},
     "output_type": "execute_result"
    }
   ],
   "source": [
    "s1 = { \"fehar\" , 3 , 4 , 3.9 , \"ahmed\" }\n",
    "s1\n"
   ]
  },
  {
   "cell_type": "code",
   "execution_count": 36,
   "id": "c7fda81d-0aee-4987-8ecc-0fa5245ce0b9",
   "metadata": {},
   "outputs": [
    {
     "data": {
      "text/plain": [
       "set"
      ]
     },
     "execution_count": 36,
     "metadata": {},
     "output_type": "execute_result"
    }
   ],
   "source": [
    "type(s1)"
   ]
  },
  {
   "cell_type": "code",
   "execution_count": 37,
   "id": "a04a836f-cd0b-4be0-84b8-684797dce40e",
   "metadata": {},
   "outputs": [
    {
     "data": {
      "text/plain": [
       "5"
      ]
     },
     "execution_count": 37,
     "metadata": {},
     "output_type": "execute_result"
    }
   ],
   "source": [
    "len(s1)"
   ]
  },
  {
   "cell_type": "code",
   "execution_count": 38,
   "id": "c13d505c-416d-4870-8b1b-35e64cdfc6c4",
   "metadata": {},
   "outputs": [
    {
     "data": {
      "text/plain": [
       "{3, 3.9, 4, 'HighShool', 'ahmed', 'fehar'}"
      ]
     },
     "execution_count": 38,
     "metadata": {},
     "output_type": "execute_result"
    }
   ],
   "source": [
    "s1.add(\"HighShool\")\n",
    "s1"
   ]
  },
  {
   "cell_type": "code",
   "execution_count": null,
   "id": "bf6aec30-2a11-41fe-b1cf-8e0f5c0ba838",
   "metadata": {},
   "outputs": [],
   "source": [
    "    # HOMEWORK IS TO USE ALL FUNCTIONS THAT APPEAR AFTER PRESSIN TAB BUTTON FOR EACH : TUBLE , LIST , DICTIONARY , SET \n"
   ]
  }
 ],
 "metadata": {
  "kernelspec": {
   "display_name": "Python 3 (ipykernel)",
   "language": "python",
   "name": "python3"
  },
  "language_info": {
   "codemirror_mode": {
    "name": "ipython",
    "version": 3
   },
   "file_extension": ".py",
   "mimetype": "text/x-python",
   "name": "python",
   "nbconvert_exporter": "python",
   "pygments_lexer": "ipython3",
   "version": "3.12.4"
  }
 },
 "nbformat": 4,
 "nbformat_minor": 5
}
