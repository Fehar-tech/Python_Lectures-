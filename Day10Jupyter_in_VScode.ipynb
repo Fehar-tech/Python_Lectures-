{
 "cells": [
  {
   "cell_type": "markdown",
   "metadata": {},
   "source": [
    "# DAY 10"
   ]
  },
  {
   "cell_type": "markdown",
   "metadata": {},
   "source": [
    "Launching Jupyter to VS code"
   ]
  },
  {
   "cell_type": "markdown",
   "metadata": {},
   "source": [
    "# DAY 10a"
   ]
  },
  {
   "cell_type": "code",
   "execution_count": null,
   "metadata": {},
   "outputs": [],
   "source": [
    "# we worked on how to create repository in Github and then initialize it from VS code directly to github\n",
    "#Steps\n",
    "#1 Create a repository in github and copy its link\n",
    "#2 Create local folder and create a file either py,md,ipynb any.\n",
    "#3 Take it to Virtual Studio Code VS cODE\n",
    "#4 Write in your file either code or whatever and SAVE it by CTRL+S\n",
    "#5 Click on Source Control ,3rd option at left side of screen and give a Commit name\n",
    "#6 Add Branch > new branch > paste link (#1) and name it \n",
    "#7 Publish Branch \n",
    "#8 Push \n",
    "#9 Your file will be uploaded on dedicated repository on github\n",
    "#10 for any change repeat the process by adding new code in #4 and adding new commit in #5\n",
    "\n",
    "\n"
   ]
  }
 ],
 "metadata": {
  "language_info": {
   "name": "python"
  }
 },
 "nbformat": 4,
 "nbformat_minor": 2
}
